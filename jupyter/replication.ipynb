{
 "cells": [
  {
   "cell_type": "markdown",
   "metadata": {},
   "source": [
    "# Introduction\n",
    "\n",
    "In free recall studies of memory, participants study a list of words and then try to recall them in any order they want. These studies have found that when words were presented near to one another on a list, people tend to recall them together during free recall. Based on this finding, researchers have proposed that memories include information about a mental representation of temporal context that functions like a mental timeline. Words associated with similar temporal contexts tend to be recalled together, because one word will remind the participant of other words associated with similar temporal contexts.\n",
    "\n",
    "If mental temporal context helps organize memory in free recall experiments, then it may also affect other types of memory tests. Osth and Fox (2019) ran a new memory study to test this hypothesis. They had participants study a list of word pairs. Participants were asked to study each pair for a later memory test. During the test phase, they were presented with word pairs that were either intact (that is, the same as one of the pairs they saw before) or rearranged (that is, two words taken from different pairs). They manipulated the lag between the words of the rearranged pairs. For example, if a rearranged pair was selected from two pairs that were adjacent in the list, that pair would have a lag of 1. The lag varied from 1 to 5, allowing the authors to test if nearby rearranged pairs were more likely to be confused with intact pairs. They predicted that, if temporal context is associated with memories, then it should make adjacent rearranged pairs seem more familiar, leading to more false alarms."
   ]
  },
  {
   "cell_type": "markdown",
   "metadata": {},
   "source": [
    "# Results"
   ]
  },
  {
   "cell_type": "markdown",
   "metadata": {},
   "source": [
    "## Read raw data and get test trials\n",
    "\n",
    "First, I read the raw data and filtered it to get just the test trials."
   ]
  },
  {
   "cell_type": "code",
   "execution_count": 1,
   "metadata": {},
   "outputs": [
    {
     "data": {
      "text/html": [
       "<div><style>\n",
       ".dataframe > thead > tr,\n",
       ".dataframe > tbody > tr {\n",
       "  text-align: right;\n",
       "  white-space: pre-wrap;\n",
       "}\n",
       "</style>\n",
       "<small>shape: (5, 11)</small><table border=\"1\" class=\"dataframe\"><thead><tr><th>subj</th><th>cycle</th><th>trial</th><th>phase</th><th>type</th><th>word1</th><th>word2</th><th>response</th><th>RT</th><th>correct</th><th>lag</th></tr><tr><td>i64</td><td>i64</td><td>i64</td><td>str</td><td>str</td><td>str</td><td>str</td><td>i64</td><td>f64</td><td>i64</td><td>i64</td></tr></thead><tbody><tr><td>101</td><td>0</td><td>-1</td><td>&quot;test&quot;</td><td>&quot;rearranged&quot;</td><td>&quot;waste&quot;</td><td>&quot;degree&quot;</td><td>0</td><td>2.312</td><td>1</td><td>2</td></tr><tr><td>101</td><td>0</td><td>0</td><td>&quot;test&quot;</td><td>&quot;rearranged&quot;</td><td>&quot;needed&quot;</td><td>&quot;able&quot;</td><td>0</td><td>3.542</td><td>1</td><td>1</td></tr><tr><td>101</td><td>0</td><td>1</td><td>&quot;test&quot;</td><td>&quot;rearranged&quot;</td><td>&quot;single&quot;</td><td>&quot;clean&quot;</td><td>0</td><td>2.084</td><td>1</td><td>3</td></tr><tr><td>101</td><td>0</td><td>2</td><td>&quot;test&quot;</td><td>&quot;rearranged&quot;</td><td>&quot;train&quot;</td><td>&quot;useful&quot;</td><td>0</td><td>1.669</td><td>1</td><td>2</td></tr><tr><td>101</td><td>0</td><td>3</td><td>&quot;test&quot;</td><td>&quot;rearranged&quot;</td><td>&quot;knees&quot;</td><td>&quot;various&quot;</td><td>0</td><td>2.326</td><td>1</td><td>5</td></tr></tbody></table></div>"
      ],
      "text/plain": [
       "shape: (5, 11)\n",
       "┌──────┬───────┬───────┬───────┬───┬──────────┬───────┬─────────┬─────┐\n",
       "│ subj ┆ cycle ┆ trial ┆ phase ┆ … ┆ response ┆ RT    ┆ correct ┆ lag │\n",
       "│ ---  ┆ ---   ┆ ---   ┆ ---   ┆   ┆ ---      ┆ ---   ┆ ---     ┆ --- │\n",
       "│ i64  ┆ i64   ┆ i64   ┆ str   ┆   ┆ i64      ┆ f64   ┆ i64     ┆ i64 │\n",
       "╞══════╪═══════╪═══════╪═══════╪═══╪══════════╪═══════╪═════════╪═════╡\n",
       "│ 101  ┆ 0     ┆ -1    ┆ test  ┆ … ┆ 0        ┆ 2.312 ┆ 1       ┆ 2   │\n",
       "│ 101  ┆ 0     ┆ 0     ┆ test  ┆ … ┆ 0        ┆ 3.542 ┆ 1       ┆ 1   │\n",
       "│ 101  ┆ 0     ┆ 1     ┆ test  ┆ … ┆ 0        ┆ 2.084 ┆ 1       ┆ 3   │\n",
       "│ 101  ┆ 0     ┆ 2     ┆ test  ┆ … ┆ 0        ┆ 1.669 ┆ 1       ┆ 2   │\n",
       "│ 101  ┆ 0     ┆ 3     ┆ test  ┆ … ┆ 0        ┆ 2.326 ┆ 1       ┆ 5   │\n",
       "└──────┴───────┴───────┴───────┴───┴──────────┴───────┴─────────┴─────┘"
      ]
     },
     "execution_count": 1,
     "metadata": {},
     "output_type": "execute_result"
    }
   ],
   "source": [
    "import polars as pl\n",
    "import seaborn as sns\n",
    "import pingouin as pg\n",
    "from project import task\n",
    "data_file = task.get_data_file()\n",
    "raw = task.read_data(data_file)\n",
    "df = raw.filter(pl.col(\"phase\") == \"test\")\n",
    "df.head()"
   ]
  },
  {
   "cell_type": "markdown",
   "metadata": {},
   "source": [
    "## Exclude responses that were too fast\n",
    "Following the original paper's analysis, I excluded responses that were faster than 0.5 s. Associative recognition responses faster than 0.5 s are generally not expected to be accurate, based on how long it usually takes humans to make these kinds of decisions."
   ]
  },
  {
   "cell_type": "code",
   "execution_count": 9,
   "metadata": {},
   "outputs": [
    {
     "name": "stdout",
     "output_type": "stream",
     "text": [
      "Excluded 1274 short responses of 53647.\n"
     ]
    },
    {
     "data": {
      "text/html": [
       "<div><style>\n",
       ".dataframe > thead > tr,\n",
       ".dataframe > tbody > tr {\n",
       "  text-align: right;\n",
       "  white-space: pre-wrap;\n",
       "}\n",
       "</style>\n",
       "<small>shape: (9, 12)</small><table border=\"1\" class=\"dataframe\"><thead><tr><th>statistic</th><th>subj</th><th>cycle</th><th>trial</th><th>phase</th><th>type</th><th>word1</th><th>word2</th><th>response</th><th>RT</th><th>correct</th><th>lag</th></tr><tr><td>str</td><td>f64</td><td>f64</td><td>f64</td><td>str</td><td>str</td><td>str</td><td>str</td><td>f64</td><td>f64</td><td>f64</td><td>f64</td></tr></thead><tbody><tr><td>&quot;count&quot;</td><td>53700.0</td><td>53700.0</td><td>53700.0</td><td>&quot;53700&quot;</td><td>&quot;53700&quot;</td><td>&quot;53700&quot;</td><td>&quot;53700&quot;</td><td>52373.0</td><td>52373.0</td><td>53700.0</td><td>26850.0</td></tr><tr><td>&quot;null_count&quot;</td><td>0.0</td><td>0.0</td><td>0.0</td><td>&quot;0&quot;</td><td>&quot;0&quot;</td><td>&quot;0&quot;</td><td>&quot;0&quot;</td><td>1327.0</td><td>1327.0</td><td>0.0</td><td>26850.0</td></tr><tr><td>&quot;mean&quot;</td><td>165.655866</td><td>3.496089</td><td>28.5</td><td>null</td><td>null</td><td>null</td><td>null</td><td>0.374143</td><td>1.356705</td><td>0.656648</td><td>3.0</td></tr><tr><td>&quot;std&quot;</td><td>99.008229</td><td>2.289598</td><td>17.318264</td><td>null</td><td>null</td><td>null</td><td>null</td><td>0.483905</td><td>0.750938</td><td>0.474832</td><td>1.41424</td></tr><tr><td>&quot;min&quot;</td><td>101.0</td><td>0.0</td><td>-1.0</td><td>&quot;test&quot;</td><td>&quot;intact&quot;</td><td>&quot;ability&quot;</td><td>&quot;ability&quot;</td><td>0.0</td><td>0.5</td><td>0.0</td><td>1.0</td></tr><tr><td>&quot;25%&quot;</td><td>128.0</td><td>1.0</td><td>14.0</td><td>null</td><td>null</td><td>null</td><td>null</td><td>0.0</td><td>0.899</td><td>0.0</td><td>2.0</td></tr><tr><td>&quot;50%&quot;</td><td>158.0</td><td>3.0</td><td>29.0</td><td>null</td><td>null</td><td>null</td><td>null</td><td>0.0</td><td>1.14</td><td>1.0</td><td>3.0</td></tr><tr><td>&quot;75%&quot;</td><td>186.0</td><td>5.0</td><td>43.0</td><td>null</td><td>null</td><td>null</td><td>null</td><td>1.0</td><td>1.543</td><td>1.0</td><td>4.0</td></tr><tr><td>&quot;max&quot;</td><td>1150.0</td><td>7.0</td><td>58.0</td><td>&quot;test&quot;</td><td>&quot;rearranged&quot;</td><td>&quot;youth&quot;</td><td>&quot;youth&quot;</td><td>1.0</td><td>7.925</td><td>1.0</td><td>5.0</td></tr></tbody></table></div>"
      ],
      "text/plain": [
       "shape: (9, 12)\n",
       "┌────────────┬────────────┬──────────┬───────────┬───┬──────────┬──────────┬──────────┬─────────┐\n",
       "│ statistic  ┆ subj       ┆ cycle    ┆ trial     ┆ … ┆ response ┆ RT       ┆ correct  ┆ lag     │\n",
       "│ ---        ┆ ---        ┆ ---      ┆ ---       ┆   ┆ ---      ┆ ---      ┆ ---      ┆ ---     │\n",
       "│ str        ┆ f64        ┆ f64      ┆ f64       ┆   ┆ f64      ┆ f64      ┆ f64      ┆ f64     │\n",
       "╞════════════╪════════════╪══════════╪═══════════╪═══╪══════════╪══════════╪══════════╪═════════╡\n",
       "│ count      ┆ 53700.0    ┆ 53700.0  ┆ 53700.0   ┆ … ┆ 52373.0  ┆ 52373.0  ┆ 53700.0  ┆ 26850.0 │\n",
       "│ null_count ┆ 0.0        ┆ 0.0      ┆ 0.0       ┆ … ┆ 1327.0   ┆ 1327.0   ┆ 0.0      ┆ 26850.0 │\n",
       "│ mean       ┆ 165.655866 ┆ 3.496089 ┆ 28.5      ┆ … ┆ 0.374143 ┆ 1.356705 ┆ 0.656648 ┆ 3.0     │\n",
       "│ std        ┆ 99.008229  ┆ 2.289598 ┆ 17.318264 ┆ … ┆ 0.483905 ┆ 0.750938 ┆ 0.474832 ┆ 1.41424 │\n",
       "│ min        ┆ 101.0      ┆ 0.0      ┆ -1.0      ┆ … ┆ 0.0      ┆ 0.5      ┆ 0.0      ┆ 1.0     │\n",
       "│ 25%        ┆ 128.0      ┆ 1.0      ┆ 14.0      ┆ … ┆ 0.0      ┆ 0.899    ┆ 0.0      ┆ 2.0     │\n",
       "│ 50%        ┆ 158.0      ┆ 3.0      ┆ 29.0      ┆ … ┆ 0.0      ┆ 1.14     ┆ 1.0      ┆ 3.0     │\n",
       "│ 75%        ┆ 186.0      ┆ 5.0      ┆ 43.0      ┆ … ┆ 1.0      ┆ 1.543    ┆ 1.0      ┆ 4.0     │\n",
       "│ max        ┆ 1150.0     ┆ 7.0      ┆ 58.0      ┆ … ┆ 1.0      ┆ 7.925    ┆ 1.0      ┆ 5.0     │\n",
       "└────────────┴────────────┴──────────┴───────────┴───┴──────────┴──────────┴──────────┴─────────┘"
      ]
     },
     "execution_count": 9,
     "metadata": {},
     "output_type": "execute_result"
    }
   ],
   "source": [
    "df_filt = task.exclude_fast_responses(df, thresh=0.5)\n",
    "prev_null = df[\"RT\"].is_null().sum()\n",
    "null = df_filt[\"RT\"].is_null().sum()\n",
    "print(f\"Excluded {null - prev_null} short responses of {df.shape[0] - prev_null}.\")\n",
    "df_filt.describe()"
   ]
  },
  {
   "cell_type": "markdown",
   "metadata": {},
   "source": [
    "## Responses by memory condition\n",
    "\n",
    "In this study, a response is a \"hit\" if the pair was intact and the participant responded \"intact\". A response is a \"false alarm\" if the pair was rearranged and the participant responded \"intact\". First, I created a table to summarize performance for each participant."
   ]
  },
  {
   "cell_type": "code",
   "execution_count": 3,
   "metadata": {},
   "outputs": [
    {
     "data": {
      "text/html": [
       "<div><style>\n",
       ".dataframe > thead > tr,\n",
       ".dataframe > tbody > tr {\n",
       "  text-align: right;\n",
       "  white-space: pre-wrap;\n",
       "}\n",
       "</style>\n",
       "<small>shape: (224, 3)</small><table border=\"1\" class=\"dataframe\"><thead><tr><th>subj</th><th>type</th><th>response</th></tr><tr><td>i64</td><td>str</td><td>f64</td></tr></thead><tbody><tr><td>101</td><td>&quot;intact&quot;</td><td>0.76569</td></tr><tr><td>101</td><td>&quot;rearranged&quot;</td><td>0.108333</td></tr><tr><td>102</td><td>&quot;intact&quot;</td><td>0.285714</td></tr><tr><td>102</td><td>&quot;rearranged&quot;</td><td>0.241667</td></tr><tr><td>103</td><td>&quot;intact&quot;</td><td>0.866667</td></tr><tr><td>&hellip;</td><td>&hellip;</td><td>&hellip;</td></tr><tr><td>212</td><td>&quot;rearranged&quot;</td><td>0.532051</td></tr><tr><td>213</td><td>&quot;intact&quot;</td><td>0.640693</td></tr><tr><td>213</td><td>&quot;rearranged&quot;</td><td>0.460526</td></tr><tr><td>1150</td><td>&quot;intact&quot;</td><td>0.408333</td></tr><tr><td>1150</td><td>&quot;rearranged&quot;</td><td>0.217573</td></tr></tbody></table></div>"
      ],
      "text/plain": [
       "shape: (224, 3)\n",
       "┌──────┬────────────┬──────────┐\n",
       "│ subj ┆ type       ┆ response │\n",
       "│ ---  ┆ ---        ┆ ---      │\n",
       "│ i64  ┆ str        ┆ f64      │\n",
       "╞══════╪════════════╪══════════╡\n",
       "│ 101  ┆ intact     ┆ 0.76569  │\n",
       "│ 101  ┆ rearranged ┆ 0.108333 │\n",
       "│ 102  ┆ intact     ┆ 0.285714 │\n",
       "│ 102  ┆ rearranged ┆ 0.241667 │\n",
       "│ 103  ┆ intact     ┆ 0.866667 │\n",
       "│ …    ┆ …          ┆ …        │\n",
       "│ 212  ┆ rearranged ┆ 0.532051 │\n",
       "│ 213  ┆ intact     ┆ 0.640693 │\n",
       "│ 213  ┆ rearranged ┆ 0.460526 │\n",
       "│ 1150 ┆ intact     ┆ 0.408333 │\n",
       "│ 1150 ┆ rearranged ┆ 0.217573 │\n",
       "└──────┴────────────┴──────────┘"
      ]
     },
     "execution_count": 3,
     "metadata": {},
     "output_type": "execute_result"
    }
   ],
   "source": [
    "resp = (\n",
    "    df_filt.group_by(\"subj\", \"type\")\n",
    "    .agg(pl.col(\"response\").mean())\n",
    "    .sort(\"subj\", \"type\")\n",
    ")\n",
    "resp"
   ]
  },
  {
   "cell_type": "markdown",
   "metadata": {},
   "source": [
    "I used a bar plot to visualize response frequency for intact and rearranged pairs. Participants were more likely to respond \"yes\" when the pair was intact. Error bars indicate 95% bootstrap confidence intervals."
   ]
  },
  {
   "cell_type": "code",
   "execution_count": 4,
   "metadata": {},
   "outputs": [
    {
     "data": {
      "image/png": "[encoded data removed]",
      "text/plain": [
       "<Figure size 640x480 with 1 Axes>"
      ]
     },
     "metadata": {},
     "output_type": "display_data"
    }
   ],
   "source": [
    "sns.barplot(resp, x=\"type\", y=\"response\");"
   ]
  },
  {
   "cell_type": "markdown",
   "metadata": {},
   "source": [
    "Next, I tested whether the rate of responding \"yes\" was greater for intact pairs compared to rearranged pairs. There was a significant difference between conditions (t(111) = 15.5, p < 0.05), with more \"yes\" responses for intact pairs compared to rearranged pairs. This result indicates that memory performance was greater than chance."
   ]
  },
  {
   "cell_type": "code",
   "execution_count": 5,
   "metadata": {},
   "outputs": [
    {
     "data": {
      "text/html": [
       "<div>\n",
       "<style scoped>\n",
       "    .dataframe tbody tr th:only-of-type {\n",
       "        vertical-align: middle;\n",
       "    }\n",
       "\n",
       "    .dataframe tbody tr th {\n",
       "        vertical-align: top;\n",
       "    }\n",
       "\n",
       "    .dataframe thead th {\n",
       "        text-align: right;\n",
       "    }\n",
       "</style>\n",
       "<table border=\"1\" class=\"dataframe\">\n",
       "  <thead>\n",
       "    <tr style=\"text-align: right;\">\n",
       "      <th></th>\n",
       "      <th>T</th>\n",
       "      <th>dof</th>\n",
       "      <th>alternative</th>\n",
       "      <th>p-val</th>\n",
       "      <th>CI95%</th>\n",
       "      <th>cohen-d</th>\n",
       "      <th>BF10</th>\n",
       "      <th>power</th>\n",
       "    </tr>\n",
       "  </thead>\n",
       "  <tbody>\n",
       "    <tr>\n",
       "      <th>T-test</th>\n",
       "      <td>15.74889</td>\n",
       "      <td>111</td>\n",
       "      <td>two-sided</td>\n",
       "      <td>4.599876e-30</td>\n",
       "      <td>[0.28, 0.36]</td>\n",
       "      <td>2.088744</td>\n",
       "      <td>7.037e+26</td>\n",
       "      <td>NaN</td>\n",
       "    </tr>\n",
       "  </tbody>\n",
       "</table>\n",
       "</div>"
      ],
      "text/plain": [
       "               T  dof alternative         p-val         CI95%   cohen-d  \\\n",
       "T-test  15.74889  111   two-sided  4.599876e-30  [0.28, 0.36]  2.088744   \n",
       "\n",
       "             BF10 power  \n",
       "T-test  7.037e+26   NaN  "
      ]
     },
     "execution_count": 5,
     "metadata": {},
     "output_type": "execute_result"
    }
   ],
   "source": [
    "tab = (\n",
    "    resp.pivot(\"type\", index=\"subj\", values=\"response\")\n",
    "    .select(subj=\"subj\", hr=\"intact\", far=\"rearranged\")\n",
    ")\n",
    "pg.ttest(tab[\"hr\"], tab[\"far\"], paired=True)"
   ]
  },
  {
   "cell_type": "markdown",
   "metadata": {},
   "source": [
    "## Calculate false alarm rate by pair lag\n",
    "\n",
    "The main question of the study focused on the rearranged pairs, which varied in the lag between them in the list. Some pairs were drawn from adjacent pairs (lag 1), while others had four pairs between them (lag 5). I next examined whether participants were more likely to respond \"yes\" to rearranged pairs that had a smaller lag (that is, that were closer together in the list)."
   ]
  },
  {
   "cell_type": "code",
   "execution_count": 6,
   "metadata": {},
   "outputs": [
    {
     "data": {
      "text/html": [
       "<div><style>\n",
       ".dataframe > thead > tr,\n",
       ".dataframe > tbody > tr {\n",
       "  text-align: right;\n",
       "  white-space: pre-wrap;\n",
       "}\n",
       "</style>\n",
       "<small>shape: (560, 3)</small><table border=\"1\" class=\"dataframe\"><thead><tr><th>subj</th><th>lag</th><th>response</th></tr><tr><td>i64</td><td>i64</td><td>f64</td></tr></thead><tbody><tr><td>101</td><td>1</td><td>0.0625</td></tr><tr><td>101</td><td>2</td><td>0.1875</td></tr><tr><td>101</td><td>3</td><td>0.0625</td></tr><tr><td>101</td><td>4</td><td>0.125</td></tr><tr><td>101</td><td>5</td><td>0.104167</td></tr><tr><td>&hellip;</td><td>&hellip;</td><td>&hellip;</td></tr><tr><td>1150</td><td>1</td><td>0.270833</td></tr><tr><td>1150</td><td>2</td><td>0.1875</td></tr><tr><td>1150</td><td>3</td><td>0.166667</td></tr><tr><td>1150</td><td>4</td><td>0.212766</td></tr><tr><td>1150</td><td>5</td><td>0.25</td></tr></tbody></table></div>"
      ],
      "text/plain": [
       "shape: (560, 3)\n",
       "┌──────┬─────┬──────────┐\n",
       "│ subj ┆ lag ┆ response │\n",
       "│ ---  ┆ --- ┆ ---      │\n",
       "│ i64  ┆ i64 ┆ f64      │\n",
       "╞══════╪═════╪══════════╡\n",
       "│ 101  ┆ 1   ┆ 0.0625   │\n",
       "│ 101  ┆ 2   ┆ 0.1875   │\n",
       "│ 101  ┆ 3   ┆ 0.0625   │\n",
       "│ 101  ┆ 4   ┆ 0.125    │\n",
       "│ 101  ┆ 5   ┆ 0.104167 │\n",
       "│ …    ┆ …   ┆ …        │\n",
       "│ 1150 ┆ 1   ┆ 0.270833 │\n",
       "│ 1150 ┆ 2   ┆ 0.1875   │\n",
       "│ 1150 ┆ 3   ┆ 0.166667 │\n",
       "│ 1150 ┆ 4   ┆ 0.212766 │\n",
       "│ 1150 ┆ 5   ┆ 0.25     │\n",
       "└──────┴─────┴──────────┘"
      ]
     },
     "execution_count": 6,
     "metadata": {},
     "output_type": "execute_result"
    }
   ],
   "source": [
    "resp_lag = (\n",
    "    df_filt.filter(pl.col(\"type\") == \"rearranged\")\n",
    "    .group_by(\"subj\", \"lag\")\n",
    "    .agg(pl.col(\"response\").mean())\n",
    "    .sort(\"subj\", \"lag\")\n",
    ")\n",
    "resp_lag"
   ]
  },
  {
   "cell_type": "markdown",
   "metadata": {},
   "source": [
    "I used a line plot to examine how the probability of a \"yes\" response changes with lag. There doesn't seem to be much relationship between lag and \"yes\" probability. Error bands indicate 95% bootstrap confidence intervals."
   ]
  },
  {
   "cell_type": "code",
   "execution_count": 7,
   "metadata": {},
   "outputs": [
    {
     "data": {
      "image/png": "[encoded data removed]",
      "text/plain": [
       "<Figure size 500x500 with 1 Axes>"
      ]
     },
     "metadata": {},
     "output_type": "display_data"
    }
   ],
   "source": [
    "sns.relplot(resp_lag, x=\"lag\", y=\"response\", kind=\"line\").set(ylim=(0, 0.4));"
   ]
  },
  {
   "cell_type": "markdown",
   "metadata": {},
   "source": [
    "I next used a repeated-measures ANOVA to test whether the probability of responding \"yes\" varied with lag. I found that there was not a significant relationship between false alarm responses and lag (F(4, 444) = 1.80, p > 0.05)."
   ]
  },
  {
   "cell_type": "code",
   "execution_count": 8,
   "metadata": {},
   "outputs": [
    {
     "data": {
      "text/html": [
       "<div>\n",
       "<style scoped>\n",
       "    .dataframe tbody tr th:only-of-type {\n",
       "        vertical-align: middle;\n",
       "    }\n",
       "\n",
       "    .dataframe tbody tr th {\n",
       "        vertical-align: top;\n",
       "    }\n",
       "\n",
       "    .dataframe thead th {\n",
       "        text-align: right;\n",
       "    }\n",
       "</style>\n",
       "<table border=\"1\" class=\"dataframe\">\n",
       "  <thead>\n",
       "    <tr style=\"text-align: right;\">\n",
       "      <th></th>\n",
       "      <th>Source</th>\n",
       "      <th>ddof1</th>\n",
       "      <th>ddof2</th>\n",
       "      <th>F</th>\n",
       "      <th>p-unc</th>\n",
       "      <th>p-GG-corr</th>\n",
       "      <th>ng2</th>\n",
       "      <th>eps</th>\n",
       "      <th>sphericity</th>\n",
       "      <th>W-spher</th>\n",
       "      <th>p-spher</th>\n",
       "    </tr>\n",
       "  </thead>\n",
       "  <tbody>\n",
       "    <tr>\n",
       "      <th>0</th>\n",
       "      <td>lag</td>\n",
       "      <td>4</td>\n",
       "      <td>444</td>\n",
       "      <td>1.70863</td>\n",
       "      <td>0.146973</td>\n",
       "      <td>0.151728</td>\n",
       "      <td>0.001886</td>\n",
       "      <td>0.931939</td>\n",
       "      <td>False</td>\n",
       "      <td>0.853225</td>\n",
       "      <td>0.043279</td>\n",
       "    </tr>\n",
       "  </tbody>\n",
       "</table>\n",
       "</div>"
      ],
      "text/plain": [
       "  Source  ddof1  ddof2        F     p-unc  p-GG-corr       ng2       eps  \\\n",
       "0    lag      4    444  1.70863  0.146973   0.151728  0.001886  0.931939   \n",
       "\n",
       "   sphericity   W-spher   p-spher  \n",
       "0       False  0.853225  0.043279  "
      ]
     },
     "execution_count": 8,
     "metadata": {},
     "output_type": "execute_result"
    }
   ],
   "source": [
    "pg.rm_anova(data=resp_lag.to_pandas(), dv=\"response\", within=\"lag\", subject=\"subj\")"
   ]
  },
  {
   "cell_type": "markdown",
   "metadata": {},
   "source": [
    "# Discussion\n",
    "\n",
    "I reproduced the findings of Osth and Fox (2019) that lag did not influence the tendency of participants to mistake rearranged pairs for intact pairs. This finding suggests that participants did not form cross-pair associations. It also suggests that, if temporal context is associated with memories, then it does not influence the perceived familiarity of associations between pairs of words.\n",
    "\n",
    "Performance on the associative recognition test was well above chance, but still included a substantial proportion of false alarms, so it seems unlikely that the analysis failed to detect an effect due to a lack of statistical power. My analysis used a frequentist, rather than Bayesian, approach, in contrast to the original analysis. The original Bayesian analysis provided clearer evidence for a lack of an effect of lag on associative memory, further suggesting that the null effect observed in this dataset was not due to a lack of statistical power."
   ]
  }
 ],
 "metadata": {
  "kernelspec": {
   "display_name": "datascipsych-project",
   "language": "python",
   "name": "datascipsych-project"
  },
  "language_info": {
   "codemirror_mode": {
    "name": "ipython",
    "version": 3
   },
   "file_extension": ".py",
   "mimetype": "text/x-python",
   "name": "python",
   "nbconvert_exporter": "python",
   "pygments_lexer": "ipython3",
   "version": "3.12.8"
  }
 },
 "nbformat": 4,
 "nbformat_minor": 2
}
